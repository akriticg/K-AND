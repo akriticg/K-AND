{
 "cells": [
  {
   "cell_type": "code",
   "execution_count": 1,
   "metadata": {
    "collapsed": false
   },
   "outputs": [
    {
     "data": {
      "text/plain": [
       "<PyQt4.QtGui.QApplication at 0x1169453e0>"
      ]
     },
     "execution_count": 1,
     "metadata": {},
     "output_type": "execute_result"
    }
   ],
   "source": [
    "drive_path = '/Volumes/Brain2016 1'\n",
    "\n",
    "%gui qt\n",
    "\n",
    "import os\n",
    "from allensdk.core.mouse_connectivity_cache import MouseConnectivityCache\n",
    "import pandas as pd\n",
    "import scipy.ndimage as ndi\n",
    "import numpy as np\n",
    "import time\n",
    "import get_connectivity as gc\n",
    "\n",
    "import pyqtgraph as pg\n",
    "import pyqtgraph.metaarray as metaarray\n",
    "from pyqtgraph.Qt import QtGui, QtCore\n",
    "import pyqtgraph.opengl as pgl\n",
    "pg.mkQApp()\n"
   ]
  },
  {
   "cell_type": "code",
   "execution_count": 2,
   "metadata": {
    "collapsed": false
   },
   "outputs": [],
   "source": [
    "# When downloading 3D connectivity data volumes, what resolution do you want (in microns)?  \n",
    "# Options are: 10, 25, 50, 100\n",
    "resolution_um=25\n",
    "\n",
    "# The manifest file is a simple JSON file that keeps track of all of\n",
    "# the data that has already been downloaded onto the hard drives.\n",
    "# If you supply a relative path, it is assumed to be relative to your\n",
    "# current working directory.\n",
    "manifest_file = os.path.join(drive_path, \"MouseConnectivity\",\"manifest.json\")\n",
    "\n",
    "mcc = MouseConnectivityCache(manifest_file=manifest_file, resolution=resolution_um)\n",
    "\n",
    "template, template_info = mcc.get_template_volume()\n",
    "\n",
    "ontology = mcc.get_ontology()"
   ]
  },
  {
   "cell_type": "markdown",
   "metadata": {
    "collapsed": true
   },
   "source": [
    "# Define the visualization function"
   ]
  },
  {
   "cell_type": "code",
   "execution_count": 64,
   "metadata": {
    "collapsed": true
   },
   "outputs": [],
   "source": [
    "# def vis3D(brain_array,inj_array,pad = 30,ds_factor=6):\n",
    "    \n",
    "#     # set up time variables\n",
    "#     now = time.time()\n",
    "#     now_start = now\n",
    "    \n",
    "#     # initialize the window\n",
    "#     view = pgl.GLViewWidget()\n",
    "#     #view.setBackgroundColor('w') # maybe?     \n",
    "    \n",
    "#     # downsample the brain image using the ds_factor\n",
    "#     img = brain_array[::ds_factor,::ds_factor,::ds_factor]\n",
    "    \n",
    "#     # do padding of the brain to avoid holes during rendering\n",
    "#     pad_img = np.zeros((img.shape[0]+pad, img.shape[1]+pad, img.shape[2]+pad), dtype=img.dtype)\n",
    "#     pad_img[pad/2:pad/2+img.shape[0], pad/2:pad/2+img.shape[1], pad/2:pad/2+img.shape[2]] = img\n",
    "#     print \"padding %0.2f\" % (time.time() - now); now = time.time() \n",
    "    \n",
    "#     # build the brain isosurface\n",
    "#     verts, faces = pg.isosurface(ndi.gaussian_filter(pad_img.astype('float32'), (2, 2, 2)), 5.0)\n",
    "#     md = pgl.MeshData(vertexes=verts, faces=faces)\n",
    "#     mesh = pgl.GLMeshItem(meshdata=md, smooth=True, color=[0.5, 0.5, 0.5, 0.1], shader='balloon')\n",
    "#     mesh.setGLOptions('additive')\n",
    "#     mesh.translate(-pad_img.shape[0]/2., -pad_img.shape[1]/2., -pad_img.shape[2]/2.)\n",
    "#     mesh.rotate(-90, 1, 0, 0)\n",
    "#     view.addItem(mesh)\n",
    "#     print \"build brain isosurface %0.2f\" % (time.time() - now); now = time.time() \n",
    "    \n",
    "#     # render the injection(s) as a volume\n",
    "#     # inj_array should be a list of tuples, with the first element in the tuple\n",
    "#     # being the plotting color (a RGB value), and the second element being the \n",
    "#     # ND-array of the volumetric data for a given injection\n",
    "#     vols = np.zeros(inj_array[0][1].shape + (4,), dtype='float32')\n",
    "#     for inj in range(len(inj_array)):\n",
    "#         col = inj_array[inj][0]\n",
    "#         vols[...,0] += col[0] * inj_array[inj][1] # red channel\n",
    "#         vols[...,1] += col[1] * inj_array[inj][1] # green channel\n",
    "#         vols[...,2] += col[2] * inj_array[inj][1] # blue channel\n",
    "#         vols[...,3] += inj_array[inj][1] * 255 # alpha channel\n",
    "#     print \"sum the projections %0.2f\" % (time.time() - now); now = time.time()\n",
    "    \n",
    "    \n",
    "#     # Now divide all color channels by a matrix that contains the max \n",
    "#     # color value across the channels at each voxel.\n",
    "#     # Then, multiply it all by 255. \n",
    "#     # this will make sure that each voxel, if it has any content, will\n",
    "#     # have at least one color channel that is at full value (255)\n",
    "#     # we do this to avoid having dark colors displayed over the top of bright colors\n",
    "#     #vols[...,0:3] = (vols[...,0:3]/np.rollaxis(np.tile(vols[...,0:3].max(axis=3),(3,1,1,1)),0,4)) * 10\n",
    "#     # make sure the maximum alpha is 255\n",
    "#     vols[...,3] *= 5\n",
    "#     vols[...,3] = np.clip(vols[...,3],0,255)\n",
    "#     print \"clean up the projections %0.2f\" % (time.time() - now); now = time.time() \n",
    "    \n",
    "#     # now add the volume to the view window\n",
    "#     vi = pgl.GLVolumeItem(vols)\n",
    "#     vi.translate(-vols.shape[0]/(2.*ds_factor), -vols.shape[1]/(2.*ds_factor), -vols.shape[2]/(2.*ds_factor))\n",
    "#     vi.scale(1./ds_factor,1./ds_factor,1./ds_factor)\n",
    "#     vi.setGLOptions('additive')\n",
    "#     vi.rotate(-90, 1, 0, 0)\n",
    "#     view.addItem(vi)\n",
    "#     print \"add volume to window %0.2f\" % (time.time() - now); now = time.time() \n",
    "#     view.setCameraPosition(distance=200, elevation=20, azimuth=90)\n",
    "#     view.show()\n",
    "    \n",
    "#     print \"show rendering %0.2f\" % (time.time() - now); now = time.time() \n",
    "#     print \"total run time: %0.2f\" % (time.time() - now_start)\n",
    "#     return view\n",
    "\n",
    "\n"
   ]
  },
  {
   "cell_type": "code",
   "execution_count": 87,
   "metadata": {
    "collapsed": false
   },
   "outputs": [],
   "source": [
    "def vis3D(brain_array,inj_array,pad = 30,ds_factor=6):\n",
    "    \n",
    "    # set up time variables\n",
    "    now = time.time()\n",
    "    now_start = now\n",
    "    \n",
    "    view = vis3D_glassBrain(template,pad,ds_factor)\n",
    "    print \"build brain isosurface %0.2f\" % (time.time() - now); now = time.time() \n",
    "    \n",
    "    view = vis3D_projections(view,inj_array,ds_factor)\n",
    "    print \"build injection volume %0.2f\" % (time.time() - now); now = time.time() \n",
    "    \n",
    "    view.show()\n",
    "    \n",
    "    print \"rendering %0.2f\" % (time.time() - now); now = time.time() \n",
    "    print \"total run time: %0.2f\" % (time.time() - now_start)\n",
    "    \n",
    "    return view"
   ]
  },
  {
   "cell_type": "code",
   "execution_count": 88,
   "metadata": {
    "collapsed": true
   },
   "outputs": [],
   "source": [
    "def vis3D_glassBrain(brain_array,pad,ds_factor):\n",
    "    \n",
    "    # initialize the window\n",
    "    view = pgl.GLViewWidget()   \n",
    "    \n",
    "    # downsample the brain image using the ds_factor\n",
    "    img = brain_array[::ds_factor,::ds_factor,::ds_factor]\n",
    "    \n",
    "    # do padding of the brain to avoid holes during rendering\n",
    "    pad_img = np.zeros((img.shape[0]+pad, img.shape[1]+pad, img.shape[2]+pad), dtype=img.dtype)\n",
    "    pad_img[pad/2:pad/2+img.shape[0], pad/2:pad/2+img.shape[1], pad/2:pad/2+img.shape[2]] = img\n",
    "    \n",
    "    # build the brain isosurface\n",
    "    verts, faces = pg.isosurface(ndi.gaussian_filter(pad_img.astype('float32'), (2, 2, 2)), 5.0)\n",
    "    md = pgl.MeshData(vertexes=verts, faces=faces)\n",
    "    mesh = pgl.GLMeshItem(meshdata=md, smooth=True, color=[0.5, 0.5, 0.5, 0.1], shader='balloon')\n",
    "    mesh.setGLOptions('additive')\n",
    "    mesh.translate(-pad_img.shape[0]/2., -pad_img.shape[1]/2., -pad_img.shape[2]/2.)\n",
    "    mesh.rotate(-90, 1, 0, 0)\n",
    "    view.addItem(mesh)\n",
    "    view.setCameraPosition(distance=200, elevation=20, azimuth=90)\n",
    "    view.show()\n",
    "\n",
    "    return view"
   ]
  },
  {
   "cell_type": "code",
   "execution_count": 89,
   "metadata": {
    "collapsed": true
   },
   "outputs": [],
   "source": [
    "def vis3D_projections(view,inj_array,ds_factor):\n",
    "    \n",
    "    # render the injection(s) as a volume\n",
    "    # inj_array should be a list of tuples, with the first element in the tuple\n",
    "    # being the plotting color (a RGB value), and the second element being the \n",
    "    # ND-array of the volumetric data for a given injection\n",
    "    vols = np.zeros(inj_array[0][1].shape + (4,), dtype='float32')\n",
    "    for inj in range(len(inj_array)):\n",
    "        col = inj_array[inj][0]\n",
    "        vols[...,0] += col[0] * inj_array[inj][1] # red channel\n",
    "        vols[...,1] += col[1] * inj_array[inj][1] # green channel\n",
    "        vols[...,2] += col[2] * inj_array[inj][1] # blue channel\n",
    "        vols[...,3] += inj_array[inj][1] * 255    # alpha channel\n",
    "\n",
    "    # Set alpha and make sure the maximum alpha is 255\n",
    "    vols[...,3] *= 5\n",
    "    vols[...,3] = np.clip(vols[...,3],0,255)\n",
    "\n",
    "    # now add the volume to the view window\n",
    "    vi = pgl.GLVolumeItem(vols)\n",
    "    vi.translate(-vols.shape[0]/(2.*ds_factor), -vols.shape[1]/(2.*ds_factor), -vols.shape[2]/(2.*ds_factor))\n",
    "    vi.scale(1./ds_factor,1./ds_factor,1./ds_factor)\n",
    "    vi.setGLOptions('additive')\n",
    "    vi.rotate(-90, 1, 0, 0)\n",
    "    view.setCameraPosition(distance=200, elevation=20, azimuth=90)\n",
    "    view.addItem(vi)\n",
    "    \n",
    "    return view"
   ]
  },
  {
   "cell_type": "code",
   "execution_count": null,
   "metadata": {
    "collapsed": true
   },
   "outputs": [],
   "source": []
  },
  {
   "cell_type": "code",
   "execution_count": null,
   "metadata": {
    "collapsed": true
   },
   "outputs": [],
   "source": []
  },
  {
   "cell_type": "code",
   "execution_count": null,
   "metadata": {
    "collapsed": true
   },
   "outputs": [],
   "source": []
  },
  {
   "cell_type": "code",
   "execution_count": 4,
   "metadata": {
    "collapsed": true
   },
   "outputs": [],
   "source": [
    "fid_PRNc_III, fpd_PRNc_III=gc.get_connectivity('PRNc','III',ontology,mcc)\n",
    "piIDs = list(fpd_PRNc_III.experiment_id)"
   ]
  },
  {
   "cell_type": "code",
   "execution_count": 5,
   "metadata": {
    "collapsed": false
   },
   "outputs": [],
   "source": [
    "fid_SCm_PRNc, fpd_SCm_PRNc=gc.get_connectivity('SCm','PRNc',ontology,mcc)\n",
    "spIDs = list(fpd_SCm_PRNc.experiment_id)"
   ]
  },
  {
   "cell_type": "code",
   "execution_count": null,
   "metadata": {
    "collapsed": false
   },
   "outputs": [],
   "source": []
  },
  {
   "cell_type": "code",
   "execution_count": 68,
   "metadata": {
    "collapsed": false
   },
   "outputs": [],
   "source": [
    "# GET PROJECTION DENSITIES\n",
    "pdens1,_ = mcc.get_projection_density(158838128)\n",
    "pdens2,_= mcc.get_projection_density(175158132)"
   ]
  },
  {
   "cell_type": "code",
   "execution_count": 7,
   "metadata": {
    "collapsed": false
   },
   "outputs": [],
   "source": []
  },
  {
   "cell_type": "code",
   "execution_count": null,
   "metadata": {
    "collapsed": false
   },
   "outputs": [],
   "source": []
  },
  {
   "cell_type": "code",
   "execution_count": 81,
   "metadata": {
    "collapsed": true
   },
   "outputs": [],
   "source": [
    "# DEFINE THE INJECTION INPUT(S)\n",
    "# lt = [([255,15,0],pdens1),([0,15,255],pdens2)]\n",
    "lt = [([0,15,240],pdens2)]\n",
    "\n",
    "\n",
    "# Note that the dominant RGB color should be 255, and the added color you want at the peak intensity\n",
    "# (i.e., where the injection occurred) should be set to about 10 or 15."
   ]
  },
  {
   "cell_type": "code",
   "execution_count": null,
   "metadata": {
    "collapsed": true
   },
   "outputs": [],
   "source": []
  },
  {
   "cell_type": "code",
   "execution_count": 90,
   "metadata": {
    "collapsed": false
   },
   "outputs": [
    {
     "name": "stdout",
     "output_type": "stream",
     "text": [
      "build brain isosurface 1.70\n",
      "build injection volume 13.77\n",
      "rendering 0.00\n",
      "total run time: 15.46\n"
     ]
    }
   ],
   "source": [
    "# RUN THE ENTIRE VISUALIZATION\n",
    "view = vis3D(template,lt)"
   ]
  },
  {
   "cell_type": "code",
   "execution_count": null,
   "metadata": {
    "collapsed": false
   },
   "outputs": [],
   "source": [
    "# JUST PLOT THE GLASS BRAIN\n",
    "view = vis3D_glassBrain(template,pad=30,ds_factor=6)"
   ]
  },
  {
   "cell_type": "code",
   "execution_count": null,
   "metadata": {
    "collapsed": true
   },
   "outputs": [],
   "source": []
  },
  {
   "cell_type": "code",
   "execution_count": null,
   "metadata": {
    "collapsed": true
   },
   "outputs": [],
   "source": []
  },
  {
   "cell_type": "code",
   "execution_count": null,
   "metadata": {
    "collapsed": true
   },
   "outputs": [],
   "source": []
  },
  {
   "cell_type": "code",
   "execution_count": null,
   "metadata": {
    "collapsed": true
   },
   "outputs": [],
   "source": []
  },
  {
   "cell_type": "code",
   "execution_count": 91,
   "metadata": {
    "collapsed": false
   },
   "outputs": [],
   "source": [
    "# REMOVE ALL ITEMS FROM VIEW\n",
    "for i in range(len(view.items)):\n",
    "    view.removeItem(view.items[0])  \n",
    "# view.items"
   ]
  },
  {
   "cell_type": "code",
   "execution_count": 79,
   "metadata": {
    "collapsed": false
   },
   "outputs": [],
   "source": [
    "# ROTATE THE IMAGE \n",
    "for i in range(360): # determine the number of steps\n",
    "    view.orbit(-2,0)  # determine the step size in horizontal and vertical dimensions\n",
    "    time.sleep(0.1) # determine the time between steps\n",
    "    pg.QtGui.QApplication.processEvents()"
   ]
  },
  {
   "cell_type": "code",
   "execution_count": null,
   "metadata": {
    "collapsed": false
   },
   "outputs": [],
   "source": [
    "\n"
   ]
  },
  {
   "cell_type": "code",
   "execution_count": null,
   "metadata": {
    "collapsed": false
   },
   "outputs": [],
   "source": []
  },
  {
   "cell_type": "code",
   "execution_count": null,
   "metadata": {
    "collapsed": false
   },
   "outputs": [],
   "source": []
  },
  {
   "cell_type": "code",
   "execution_count": null,
   "metadata": {
    "collapsed": false
   },
   "outputs": [],
   "source": []
  },
  {
   "cell_type": "code",
   "execution_count": null,
   "metadata": {
    "collapsed": false
   },
   "outputs": [],
   "source": []
  },
  {
   "cell_type": "code",
   "execution_count": null,
   "metadata": {
    "collapsed": true
   },
   "outputs": [],
   "source": []
  },
  {
   "cell_type": "code",
   "execution_count": null,
   "metadata": {
    "collapsed": true
   },
   "outputs": [],
   "source": []
  },
  {
   "cell_type": "code",
   "execution_count": null,
   "metadata": {
    "collapsed": true
   },
   "outputs": [],
   "source": [
    "# import sys\n",
    "# print sys.path\n",
    "# sys.path.append('somepath')\n",
    "\n",
    "\n",
    "\n",
    "# list of tuples\n",
    "# lt = [('r',np.ones((5,5))),('g',np.ones((8,2)))]\n",
    "# print(lt[0][1])\n",
    "\n",
    "\n",
    "\n",
    "# render volume\n",
    "#vol = np.empty(img.shape + (4,), dtype='ubyte')\n",
    "#vol[:] = img[..., None]\n",
    "#vol = np.ascontiguousarray(vol.transpose(1, 2, 0, 3))\n",
    "#vi = pgl.GLVolumeItem(vol)\n",
    "#self.glView.addItem(vi)\n",
    "#vi.translate(-vol.shape[0]/2., -vol.shape[1]/2., -vol.shape[2]/2.)\n",
    "\n",
    "\n",
    "\n",
    "\n",
    "# remove item\n",
    "# view.removeItem(mesh)\n",
    "\n",
    "\n",
    "# g = pgl.GLGridItem()\n",
    "# g.scale(10, 10, 1)\n",
    "# view.addItem(g)\n",
    "\n",
    "\n",
    "# # render volume\n",
    "# vol = np.zeros(pdensity.shape + (4,), dtype='ubyte')\n",
    "# vol[...,3] = pdensity*255\n",
    "# vol[...,1] = 255\n",
    "# #vol = np.ascontiguousarray(vol.transpose(1, 2, 0, 3))\n",
    "# vi = pgl.GLVolumeItem(vol)\n",
    "# vi.translate(-vol.shape[0]/8., -vol.shape[1]/8., -vol.shape[2]/8.)\n",
    "# vi.scale(1./4,1./4,1./4)\n",
    "\n",
    "\n",
    "\n",
    "# verts_pd, faces_pd = pg.isosurface(ndi.gaussian_filter(pd.astype('float32'), (2, 2, 2)), .05)\n",
    "# md_d = pgl.MeshData(vertexes=verts_pd, faces=faces_pd)\n",
    "# mesh_d = pgl.GLMeshItem(meshdata=md_d, smooth=True, color=[1, 0.5, 1, 0.9], shader='balloon')\n",
    "# mesh_d.setGLOptions('additive')\n",
    "# mesh_d.translate(-pd.shape[0]/2., -pd.shape[1]/2., -pd.shape[2]/2.)\n",
    "# view.addItem(mesh_d)"
   ]
  }
 ],
 "metadata": {
  "anaconda-cloud": {},
  "kernelspec": {
   "display_name": "Python [Root]",
   "language": "python",
   "name": "Python [Root]"
  },
  "language_info": {
   "codemirror_mode": {
    "name": "ipython",
    "version": 2
   },
   "file_extension": ".py",
   "mimetype": "text/x-python",
   "name": "python",
   "nbconvert_exporter": "python",
   "pygments_lexer": "ipython2",
   "version": "2.7.12"
  }
 },
 "nbformat": 4,
 "nbformat_minor": 0
}
