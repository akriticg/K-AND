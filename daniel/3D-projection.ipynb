{
 "cells": [
  {
   "cell_type": "code",
   "execution_count": 1,
   "metadata": {
    "collapsed": false
   },
   "outputs": [
    {
     "data": {
      "text/plain": [
       "<PyQt4.QtGui.QApplication at 0x10dfb0b98>"
      ]
     },
     "execution_count": 1,
     "metadata": {},
     "output_type": "execute_result"
    }
   ],
   "source": [
    "%gui qt\n",
    "\n",
    "import pyqtgraph as pg\n",
    "import pyqtgraph.metaarray as metaarray\n",
    "from pyqtgraph.Qt import QtGui, QtCore\n",
    "import pyqtgraph.opengl as pgl\n",
    "import scipy.ndimage as ndi\n",
    "import numpy as np\n",
    "\n",
    "pg.mkQApp()"
   ]
  },
  {
   "cell_type": "code",
   "execution_count": 2,
   "metadata": {
    "collapsed": false
   },
   "outputs": [],
   "source": [
    "drive_path = '/Volumes/Brain2016'\n",
    "import os\n",
    "from allensdk.core.mouse_connectivity_cache import MouseConnectivityCache\n",
    "import pandas as pd\n"
   ]
  },
  {
   "cell_type": "code",
   "execution_count": 3,
   "metadata": {
    "collapsed": true
   },
   "outputs": [],
   "source": [
    "# When downloading 3D connectivity data volumes, what resolution do you want (in microns)?  \n",
    "# Options are: 10, 25, 50, 100\n",
    "resolution_um=25\n",
    "\n",
    "# The manifest file is a simple JSON file that keeps track of all of\n",
    "# the data that has already been downloaded onto the hard drives.\n",
    "# If you supply a relative path, it is assumed to be relative to your\n",
    "# current working directory.\n",
    "manifest_file = os.path.join(drive_path, \"MouseConnectivity\",\"manifest.json\")\n",
    "\n",
    "mcc = MouseConnectivityCache(manifest_file=manifest_file, resolution=resolution_um)"
   ]
  },
  {
   "cell_type": "code",
   "execution_count": 4,
   "metadata": {
    "collapsed": true
   },
   "outputs": [],
   "source": [
    "template, template_info = mcc.get_template_volume()"
   ]
  },
  {
   "cell_type": "code",
   "execution_count": null,
   "metadata": {
    "collapsed": true
   },
   "outputs": [],
   "source": []
  },
  {
   "cell_type": "code",
   "execution_count": null,
   "metadata": {
    "collapsed": true
   },
   "outputs": [],
   "source": []
  },
  {
   "cell_type": "code",
   "execution_count": null,
   "metadata": {
    "collapsed": true
   },
   "outputs": [],
   "source": []
  },
  {
   "cell_type": "code",
   "execution_count": null,
   "metadata": {
    "collapsed": true
   },
   "outputs": [],
   "source": []
  },
  {
   "cell_type": "code",
   "execution_count": null,
   "metadata": {
    "collapsed": true
   },
   "outputs": [],
   "source": []
  },
  {
   "cell_type": "code",
   "execution_count": null,
   "metadata": {
    "collapsed": true
   },
   "outputs": [],
   "source": []
  },
  {
   "cell_type": "code",
   "execution_count": null,
   "metadata": {
    "collapsed": true
   },
   "outputs": [],
   "source": [
    "view = pgl.GLViewWidget()\n",
    "\n",
    "# atlas = metaarray.MetaArray(file='ccf.ma', readAllData=True)\n",
    "\n",
    "# img = np.ascontiguousarray(atlas.asarray()[::8,::8,::8])"
   ]
  },
  {
   "cell_type": "code",
   "execution_count": 25,
   "metadata": {
    "collapsed": false
   },
   "outputs": [],
   "source": [
    "img = template[::4,::4,::4]\n",
    "pad = 50\n",
    "padded_img = np.zeros((img.shape[0]+pad, img.shape[1]+pad, img.shape[2]+pad), dtype=img.dtype)\n",
    "padded_img[pad/2:pad/2+img.shape[0], pad/2:pad/2+img.shape[1], pad/2:pad/2+img.shape[2]] = img"
   ]
  },
  {
   "cell_type": "code",
   "execution_count": null,
   "metadata": {
    "collapsed": false
   },
   "outputs": [],
   "source": []
  },
  {
   "cell_type": "code",
   "execution_count": 26,
   "metadata": {
    "collapsed": false
   },
   "outputs": [],
   "source": [
    "# render volume\n",
    "#vol = np.empty(img.shape + (4,), dtype='ubyte')\n",
    "#vol[:] = img[..., None]\n",
    "#vol = np.ascontiguousarray(vol.transpose(1, 2, 0, 3))\n",
    "#vi = pgl.GLVolumeItem(vol)\n",
    "#self.glView.addItem(vi)\n",
    "#vi.translate(-vol.shape[0]/2., -vol.shape[1]/2., -vol.shape[2]/2.)\n",
    "\n",
    "\n",
    "\n",
    "verts, faces = pg.isosurface(ndi.gaussian_filter(padded_img.astype('float32'), (2, 2, 2)), 5.0)\n",
    "md = pgl.MeshData(vertexes=verts, faces=faces)\n",
    "mesh = pgl.GLMeshItem(meshdata=md, smooth=False, color=[0.5, 0.5, 0.5, 0.2], shader='balloon')\n",
    "mesh.setGLOptions('additive')\n",
    "mesh.translate(-padded_img.shape[0]/2., -padded_img.shape[1]/2., -padded_img.shape[2]/2.)\n",
    "view.addItem(mesh)\n",
    "\n",
    "view.show()"
   ]
  },
  {
   "cell_type": "code",
   "execution_count": 9,
   "metadata": {
    "collapsed": true
   },
   "outputs": [],
   "source": [
    "ontology = mcc.get_ontology()"
   ]
  },
  {
   "cell_type": "code",
   "execution_count": 10,
   "metadata": {
    "collapsed": true
   },
   "outputs": [],
   "source": [
    "def get_connectivity(source_abb,targ_abb):\n",
    "    '''\n",
    "    Maps the connectivity between two structures of interest.\n",
    "    Inputs:\n",
    "        source_abb (str): abbreviation for the source structure.\n",
    "        targ_abb (str): abbreviation for the target structure.\n",
    "    Outputs:\n",
    "        unionizes (dict): a dictionary of pandas tables for all the experiments where the source injections \n",
    "            resulted in expression within the target structure. Keys are the experiment IDs.\n",
    "        npv (dict): a dictionary where the keys are the experiment IDs and the values are the \n",
    "            normalized projection volume of the source injection within the target structure.\n",
    "    '''\n",
    "    \n",
    "    # get structure IDs\n",
    "    source_ID = ontology.df[ontology.df.acronym==source_abb].id.values[0]\n",
    "    targ_ID = ontology.df[ontology.df.acronym==targ_abb].id.values[0]\n",
    "    \n",
    "    # pull source experiments\n",
    "    source = mcc.get_experiments(dataframe=True, injection_structure_ids=[source_ID])\n",
    "\n",
    "    # identify all experiments with injections from source\n",
    "    source_exp_IDs = list(source.id.values)\n",
    "    \n",
    "    unionizes = mcc.get_structure_unionizes(source.id.values, structure_ids=[source_ID,targ_ID])\n",
    "\n",
    "    filtered_projection_data = unionizes[(unionizes.hemisphere_id == 3) &\n",
    "                                         (unionizes.is_injection==False) &\n",
    "                                        (unionizes.structure_id == targ_ID)]\n",
    "    filtered_injection_data = unionizes[(unionizes.hemisphere_id == 3) &\n",
    "                                         (unionizes.is_injection==True) &\n",
    "                                        (unionizes.structure_id == source_ID)]\n",
    "     \n",
    "    return filtered_injection_data, filtered_projection_data"
   ]
  },
  {
   "cell_type": "code",
   "execution_count": 11,
   "metadata": {
    "collapsed": false
   },
   "outputs": [],
   "source": [
    "fid_PRNc_III, fpd_PRNc_III=get_connectivity('PRNc','III')"
   ]
  },
  {
   "cell_type": "code",
   "execution_count": 12,
   "metadata": {
    "collapsed": false
   },
   "outputs": [
    {
     "data": {
      "text/plain": [
       "300691325"
      ]
     },
     "execution_count": 12,
     "metadata": {},
     "output_type": "execute_result"
    }
   ],
   "source": [
    "fpd_PRNc_III.experiment_id[0]"
   ]
  },
  {
   "cell_type": "code",
   "execution_count": 13,
   "metadata": {
    "collapsed": false
   },
   "outputs": [],
   "source": [
    "pdensity,_ = mcc.get_projection_density(fpd_PRNc_III.experiment_id[0])"
   ]
  },
  {
   "cell_type": "code",
   "execution_count": 28,
   "metadata": {
    "collapsed": false
   },
   "outputs": [],
   "source": [
    "# remove item\n",
    "view.removeItem(vi)"
   ]
  },
  {
   "cell_type": "code",
   "execution_count": null,
   "metadata": {
    "collapsed": false
   },
   "outputs": [],
   "source": [
    "#b = gl.GLBoxItem()\n",
    "#w.addItem(b)\n",
    "g = pgl.GLGridItem()\n",
    "g.scale(10, 10, 1)\n",
    "view.addItem(g)"
   ]
  },
  {
   "cell_type": "code",
   "execution_count": null,
   "metadata": {
    "collapsed": true
   },
   "outputs": [],
   "source": [
    "view.show()"
   ]
  },
  {
   "cell_type": "code",
   "execution_count": 29,
   "metadata": {
    "collapsed": false
   },
   "outputs": [],
   "source": [
    "# render volume\n",
    "vol = np.zeros(pdensity.shape + (4,), dtype='ubyte')\n",
    "vol[...,3] = pdensity*255\n",
    "vol[...,1] = 255\n",
    "#vol = np.ascontiguousarray(vol.transpose(1, 2, 0, 3))\n",
    "vi = pgl.GLVolumeItem(vol)\n",
    "vi.translate(-vol.shape[0]/8., -vol.shape[1]/8., -vol.shape[2]/8.)\n",
    "vi.scale(1./4,1./4,1./4)\n",
    "view.addItem(vi)\n",
    "\n",
    "\n",
    "# verts_pd, faces_pd = pg.isosurface(ndi.gaussian_filter(pd.astype('float32'), (2, 2, 2)), .05)\n",
    "# md_d = pgl.MeshData(vertexes=verts_pd, faces=faces_pd)\n",
    "# mesh_d = pgl.GLMeshItem(meshdata=md_d, smooth=True, color=[1, 0.5, 1, 0.9], shader='balloon')\n",
    "# mesh_d.setGLOptions('additive')\n",
    "# mesh_d.translate(-pd.shape[0]/2., -pd.shape[1]/2., -pd.shape[2]/2.)\n",
    "# view.addItem(mesh_d)\n",
    "\n",
    "view.show()"
   ]
  },
  {
   "cell_type": "code",
   "execution_count": 30,
   "metadata": {
    "collapsed": false
   },
   "outputs": [],
   "source": [
    "vi.rotate(-90, 1, 0, 0)\n",
    "mesh.rotate(-90, 1, 0, 0)"
   ]
  },
  {
   "cell_type": "code",
   "execution_count": 32,
   "metadata": {
    "collapsed": false
   },
   "outputs": [],
   "source": []
  },
  {
   "cell_type": "code",
   "execution_count": 33,
   "metadata": {
    "collapsed": true
   },
   "outputs": [],
   "source": [
    "import time"
   ]
  },
  {
   "cell_type": "code",
   "execution_count": 38,
   "metadata": {
    "collapsed": true
   },
   "outputs": [],
   "source": [
    "\n",
    "\n",
    "for i in range(360):\n",
    "    view.orbit(1,0)\n",
    "    time.sleep(0.01)\n",
    "    pg.QtGui.QApplication.processEvents()"
   ]
  },
  {
   "cell_type": "code",
   "execution_count": null,
   "metadata": {
    "collapsed": true
   },
   "outputs": [],
   "source": []
  },
  {
   "cell_type": "code",
   "execution_count": null,
   "metadata": {
    "collapsed": true
   },
   "outputs": [],
   "source": []
  }
 ],
 "metadata": {
  "anaconda-cloud": {},
  "kernelspec": {
   "display_name": "Python [Root]",
   "language": "python",
   "name": "Python [Root]"
  },
  "language_info": {
   "codemirror_mode": {
    "name": "ipython",
    "version": 2
   },
   "file_extension": ".py",
   "mimetype": "text/x-python",
   "name": "python",
   "nbconvert_exporter": "python",
   "pygments_lexer": "ipython2",
   "version": "2.7.12"
  }
 },
 "nbformat": 4,
 "nbformat_minor": 0
}
